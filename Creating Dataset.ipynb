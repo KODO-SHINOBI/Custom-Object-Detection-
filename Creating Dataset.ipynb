{
 "cells": [
  {
   "cell_type": "markdown",
   "metadata": {},
   "source": [
    "# 1. Import Dependencies"
   ]
  },
  {
   "cell_type": "code",
   "execution_count": 1,
   "metadata": {},
   "outputs": [
    {
     "name": "stdout",
     "output_type": "stream",
     "text": [
      "Collecting opencv-python\n",
      "  Downloading opencv_python-4.5.4.58-cp39-cp39-win_amd64.whl (35.1 MB)\n",
      "Collecting numpy>=1.19.3\n",
      "  Downloading numpy-1.21.3-cp39-cp39-win_amd64.whl (14.0 MB)\n",
      "Installing collected packages: numpy, opencv-python\n",
      "Successfully installed numpy-1.21.3 opencv-python-4.5.4.58\n"
     ]
    }
   ],
   "source": [
    "!pip install opencv-python"
   ]
  },
  {
   "cell_type": "code",
   "execution_count": 2,
   "metadata": {},
   "outputs": [],
   "source": [
    "# Import opencv\n",
    "import cv2 \n",
    "\n",
    "# Import uuid\n",
    "import uuid\n",
    "\n",
    "# Import Operating System\n",
    "import os\n",
    "\n",
    "# Import time\n",
    "import time"
   ]
  },
  {
   "cell_type": "markdown",
   "metadata": {},
   "source": [
    "# 2. Define Images to Collect"
   ]
  },
  {
   "cell_type": "code",
   "execution_count": 6,
   "metadata": {},
   "outputs": [],
   "source": [
    "labels = ['gun']\n",
    "number_imgs = 15"
   ]
  },
  {
   "cell_type": "markdown",
   "metadata": {},
   "source": [
    "# 3. Setup Folders "
   ]
  },
  {
   "cell_type": "code",
   "execution_count": 7,
   "metadata": {},
   "outputs": [],
   "source": [
    "IMAGES_PATH = os.path.join('Tensorflow', 'workspace', 'images', 'collectedimages')"
   ]
  },
  {
   "cell_type": "code",
   "execution_count": 8,
   "metadata": {},
   "outputs": [],
   "source": [
    "if not os.path.exists(IMAGES_PATH):\n",
    "    if os.name == 'posix':\n",
    "        !mkdir -p {IMAGES_PATH}\n",
    "    if os.name == 'nt':\n",
    "         !mkdir {IMAGES_PATH}\n",
    "for label in labels:\n",
    "    path = os.path.join(IMAGES_PATH, label)\n",
    "    if not os.path.exists(path):\n",
    "        !mkdir {path}"
   ]
  },
  {
   "cell_type": "markdown",
   "metadata": {},
   "source": [
    "# 4. Capture Images"
   ]
  },
  {
   "cell_type": "code",
   "execution_count": 9,
   "metadata": {},
   "outputs": [],
   "source": [
    "# for label in labels:\n",
    "#     cap = cv2.VideoCapture(0)\n",
    "#     print('Collecting images for {}'.format(label))\n",
    "#     time.sleep(5)\n",
    "#     for imgnum in range(number_imgs):\n",
    "#         print('Collecting image {}'.format(imgnum))\n",
    "#         ret, frame = cap.read()\n",
    "#         imgname = os.path.join(IMAGES_PATH,label,label+'.'+'{}.jpg'.format(str(uuid.uuid1())))\n",
    "#         cv2.imwrite(imgname, frame)\n",
    "#         cv2.imshow('frame', frame)\n",
    "#         time.sleep(2)\n",
    "\n",
    "#         if cv2.waitKey(1) & 0xFF == ord('q'):\n",
    "#             break\n",
    "# cap.release()\n",
    "# cv2.destroyAllWindows()"
   ]
  },
  {
   "cell_type": "markdown",
   "metadata": {},
   "source": [
    "# 5. Image Labelling"
   ]
  },
  {
   "cell_type": "code",
   "execution_count": 10,
   "metadata": {},
   "outputs": [
    {
     "name": "stdout",
     "output_type": "stream",
     "text": [
      "Collecting pyqt5\n",
      "  Downloading PyQt5-5.15.5-cp36-abi3-win_amd64.whl (6.7 MB)\n",
      "Collecting lxml\n",
      "  Downloading lxml-4.6.3-cp39-cp39-win_amd64.whl (3.5 MB)\n",
      "Collecting PyQt5-sip<13,>=12.8\n",
      "  Downloading PyQt5_sip-12.9.0-cp39-cp39-win_amd64.whl (63 kB)\n",
      "Collecting PyQt5-Qt5>=5.15.2\n",
      "  Downloading PyQt5_Qt5-5.15.2-py3-none-win_amd64.whl (50.1 MB)\n",
      "Installing collected packages: PyQt5-sip, PyQt5-Qt5, pyqt5, lxml\n",
      "Successfully installed PyQt5-Qt5-5.15.2 PyQt5-sip-12.9.0 lxml-4.6.3 pyqt5-5.15.5\n"
     ]
    }
   ],
   "source": [
    "!pip install --upgrade pyqt5 lxml"
   ]
  },
  {
   "cell_type": "code",
   "execution_count": 23,
   "metadata": {},
   "outputs": [],
   "source": [
    "LABELIMG_PATH = os.path.join('Tensorflow', 'labelimg')"
   ]
  },
  {
   "cell_type": "code",
   "execution_count": 24,
   "metadata": {},
   "outputs": [
    {
     "data": {
      "text/plain": [
       "'Tensorflow\\\\labelimg'"
      ]
     },
     "execution_count": 24,
     "metadata": {},
     "output_type": "execute_result"
    }
   ],
   "source": [
    "LABELIMG_PATH"
   ]
  },
  {
   "cell_type": "code",
   "execution_count": 26,
   "metadata": {},
   "outputs": [],
   "source": [
    "if not os.path.exists(LABELIMG_PATH):\n",
    "    !mkdir {LABELIMG_PATH}\n",
    "    !git clone https://github.com/tzutalin/labelImg.git {LABELIMG_PATH}"
   ]
  },
  {
   "cell_type": "code",
   "execution_count": 27,
   "metadata": {},
   "outputs": [],
   "source": [
    "if os.name == 'posix':\n",
    "    !make qt5py3\n",
    "if os.name =='nt':\n",
    "    !cd {LABELIMG_PATH} && pyrcc5 -o libs/resources.py resources.qrc"
   ]
  },
  {
   "cell_type": "code",
   "execution_count": 28,
   "metadata": {},
   "outputs": [
    {
     "name": "stdout",
     "output_type": "stream",
     "text": [
      "Image:E:\\DS PROJECTS\\Tensorflow Object Detection\\Tensorflow\\workspace\\images\\collectedimages\\gun\\1.jpg -> Annotation:E:/DS PROJECTS/Tensorflow Object Detection/Tensorflow/workspace/images/collectedimages/gun/1.xml\n",
      "Cancel creation.\n",
      "Image:E:\\DS PROJECTS\\Tensorflow Object Detection\\Tensorflow\\workspace\\images\\collectedimages\\gun\\2.jpg -> Annotation:E:/DS PROJECTS/Tensorflow Object Detection/Tensorflow/workspace/images/collectedimages/gun/2.xml\n",
      "Image:E:\\DS PROJECTS\\Tensorflow Object Detection\\Tensorflow\\workspace\\images\\collectedimages\\gun\\3.jpg -> Annotation:E:/DS PROJECTS/Tensorflow Object Detection/Tensorflow/workspace/images/collectedimages/gun/3.xml\n",
      "Image:E:\\DS PROJECTS\\Tensorflow Object Detection\\Tensorflow\\workspace\\images\\collectedimages\\gun\\4.jpg -> Annotation:E:/DS PROJECTS/Tensorflow Object Detection/Tensorflow/workspace/images/collectedimages/gun/4.xml\n",
      "Image:E:\\DS PROJECTS\\Tensorflow Object Detection\\Tensorflow\\workspace\\images\\collectedimages\\gun\\5.jpg -> Annotation:E:/DS PROJECTS/Tensorflow Object Detection/Tensorflow/workspace/images/collectedimages/gun/5.xml\n",
      "Image:E:\\DS PROJECTS\\Tensorflow Object Detection\\Tensorflow\\workspace\\images\\collectedimages\\gun\\6.jpg -> Annotation:E:/DS PROJECTS/Tensorflow Object Detection/Tensorflow/workspace/images/collectedimages/gun/6.xml\n",
      "Image:E:\\DS PROJECTS\\Tensorflow Object Detection\\Tensorflow\\workspace\\images\\collectedimages\\gun\\7.jpg -> Annotation:E:/DS PROJECTS/Tensorflow Object Detection/Tensorflow/workspace/images/collectedimages/gun/7.xml\n",
      "Cancel creation.\n",
      "Cancel creation.\n",
      "Image:E:\\DS PROJECTS\\Tensorflow Object Detection\\Tensorflow\\workspace\\images\\collectedimages\\gun\\8.jpg -> Annotation:E:/DS PROJECTS/Tensorflow Object Detection/Tensorflow/workspace/images/collectedimages/gun/8.xml\n",
      "Cancel creation.\n",
      "Image:E:\\DS PROJECTS\\Tensorflow Object Detection\\Tensorflow\\workspace\\images\\collectedimages\\gun\\9.jpg -> Annotation:E:/DS PROJECTS/Tensorflow Object Detection/Tensorflow/workspace/images/collectedimages/gun/9.xml\n",
      "Image:E:\\DS PROJECTS\\Tensorflow Object Detection\\Tensorflow\\workspace\\images\\collectedimages\\gun\\10.jpg -> Annotation:E:/DS PROJECTS/Tensorflow Object Detection/Tensorflow/workspace/images/collectedimages/gun/10.xml\n",
      "Image:E:\\DS PROJECTS\\Tensorflow Object Detection\\Tensorflow\\workspace\\images\\collectedimages\\gun\\11.jpg -> Annotation:E:/DS PROJECTS/Tensorflow Object Detection/Tensorflow/workspace/images/collectedimages/gun/11.xml\n",
      "Cancel creation.\n",
      "Image:E:\\DS PROJECTS\\Tensorflow Object Detection\\Tensorflow\\workspace\\images\\collectedimages\\gun\\12.jpg -> Annotation:E:/DS PROJECTS/Tensorflow Object Detection/Tensorflow/workspace/images/collectedimages/gun/12.xml\n",
      "Image:E:\\DS PROJECTS\\Tensorflow Object Detection\\Tensorflow\\workspace\\images\\collectedimages\\gun\\13.jpg -> Annotation:E:/DS PROJECTS/Tensorflow Object Detection/Tensorflow/workspace/images/collectedimages/gun/13.xml\n",
      "Image:E:\\DS PROJECTS\\Tensorflow Object Detection\\Tensorflow\\workspace\\images\\collectedimages\\gun\\14.jpg -> Annotation:E:/DS PROJECTS/Tensorflow Object Detection/Tensorflow/workspace/images/collectedimages/gun/14.xml\n",
      "Image:E:\\DS PROJECTS\\Tensorflow Object Detection\\Tensorflow\\workspace\\images\\collectedimages\\gun\\15.jpg -> Annotation:E:/DS PROJECTS/Tensorflow Object Detection/Tensorflow/workspace/images/collectedimages/gun/15.xml\n"
     ]
    }
   ],
   "source": [
    "!cd {LABELIMG_PATH} && python labelImg.py"
   ]
  },
  {
   "cell_type": "code",
   "execution_count": null,
   "metadata": {},
   "outputs": [],
   "source": []
  }
 ],
 "metadata": {
  "kernelspec": {
   "display_name": "obd",
   "language": "python",
   "name": "obd"
  },
  "language_info": {
   "codemirror_mode": {
    "name": "ipython",
    "version": 3
   },
   "file_extension": ".py",
   "mimetype": "text/x-python",
   "name": "python",
   "nbconvert_exporter": "python",
   "pygments_lexer": "ipython3",
   "version": "3.9.6"
  }
 },
 "nbformat": 4,
 "nbformat_minor": 2
}
